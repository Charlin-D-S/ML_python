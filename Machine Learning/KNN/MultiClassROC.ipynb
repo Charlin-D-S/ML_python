{
 "cells": [
  {
   "cell_type": "markdown",
   "metadata": {},
   "source": [
    "# ROC Curve for multiclass (One VS Rest)"
   ]
  },
  {
   "cell_type": "code",
   "execution_count": 1,
   "metadata": {},
   "outputs": [],
   "source": [
    "import numpy as np\n",
    "import matplotlib.pyplot as plt"
   ]
  },
  {
   "cell_type": "code",
   "execution_count": 2,
   "metadata": {},
   "outputs": [
    {
     "name": "stdout",
     "output_type": "stream",
     "text": [
      "(1000, 5)\n",
      "(1000,)\n"
     ]
    }
   ],
   "source": [
    "from sklearn.datasets import make_classification\n",
    "\n",
    "X, y = make_classification(\n",
    "    n_samples=1000, # 1000 observations \n",
    "    n_features=5, # 5 total features\n",
    "    n_informative=3, # 3 'useful' features\n",
    "    n_classes=3, # binary target/label \n",
    "    random_state=999\n",
    ")\n",
    "print(np.shape(X))\n",
    "print(np.shape(y))"
   ]
  },
  {
   "cell_type": "code",
   "execution_count": 3,
   "metadata": {},
   "outputs": [
    {
     "name": "stdout",
     "output_type": "stream",
     "text": [
      "[2 0 0 2 1 2 1 0 0 1 2 1 0 2 1 0 2 1 2 2 2 1 2 0 2 0 1 0 2 2 1 1 1 2 0 1 1\n",
      " 2 0 2 0 0 1 1 1 2 2 2 1 1 0 2 2 0 0 1 1 1 1 1 2 1 1 0 1 0 1 1 2 0 1 0 1 0\n",
      " 0 1 2 1 0 2 2 2 2 1 1 2 0 0 2 1 1 0 2 0 2 1 0 0 2 0 0 2 0 0 1 1 0 1 2 1 1\n",
      " 2 1 0 2 2 1 2 2 1 0 0 0 0 0 1 0 1 1 0 2 1 2 2 2 0 1 0 0 0 0 1 0 0 0 0 2 2\n",
      " 2 2 0 1 0 0 1 0 1 1 0 2 2 1 1 1 2 0 0 1 2 1 2 2 2 0 0 0 1 2 0 2 0 2 0 0 2\n",
      " 0 2 0 2 0 2 1 1 1 1 0 2 2 0 1 0 2 0 2 2 1 0 1 1 0 2 1 1 0 1 0 0 1 2 1 2 2\n",
      " 2 0 2 2 0 0 1 1 2 2 1 1 0 0 0 1 0 1 1 0 0 1 2 1 2 1 2 0 0 2 1 0 0 1 1 0 2\n",
      " 1 0 0 0 2 1 2 2 1 1 1 2 0 0 2 2 0 1 2 0 1 1 2 0 2 1 1 2 1 2 2 0 0 2 0 1 2\n",
      " 0 1 0 0 2 2 1 1 1 2 1 1 1 1 0 0 1 0 2 2 1 2 0 2 2 1 0 0 1 0 1 2 1 0 1 0 2\n",
      " 0 2 0 2 1 2 2 0 1 2 0 0 2 0 1 2 0 0 0 2 0 0 0 2 2 1 2 2 1 0 1 0 0 0 0 2 2\n",
      " 2 1 2 2 0 1 2 1 2 1 1 0 2 1 0 1 2 0 2 0 1 0 2 2 0 2 0 0 0 1 0 1 2 2 2 1 1\n",
      " 2 0 1 0 2 0 2 1 0 2 2 0 0 2 2 2 2 1 0 0 0 1 1 0 2 1 1 1 2 2 2 0 0 0 2 0 0\n",
      " 0 0 0 0 2 0 0 2 0 2 0 2 0 1 0 2 1 1 1 1 2 1 0 1 2 2 2 0 2 0 2 0 0 0 0 1 0\n",
      " 2 2 1 2 0 2 2 0 0 1 2 0 0 2 1 1 2 1 2 2 0 1 1 0 0 0 2 1 2 2 2 2 0 1 1 1 0\n",
      " 0 1 1 1 0 1 1 2 1 0 1 0 1 2 2 0 1 2 0 0 2 2 1 2 1 1 2 0 1 2 1 1 2 0 0 0 2\n",
      " 1 2 2 1 2 0 2 0 0 1 1 1 0 0 2 2 2 2 0 1 1 0 2 2 0 0 2 2 0 1 2 1 2 2 0 2 1\n",
      " 1 2 1 1 0 2 1 0 0 1 0 0 2 0 1 2 2 0 2 1 1 2 2 1 1 0 2 1 2 2 0 0 2 0 2 1 0\n",
      " 2 1 0 0 2 0 0 2 1 0 1 1 1 2 0 2 1 2 0 0 2 2 0 2 0 1 0 0 0 2 2 2 0 0 2 1 1\n",
      " 0 1 2 1 0 1 1 2 2 2 1 1 1 2 1 0 1 1 1 0 0 0 2 0 0 0 1 0 1 1 1 2 1 2 2 1 0\n",
      " 2 2 0 0 0 1 1 1 2 2 0 0 0 0 1 0 0 1 2 0 1 0 1 1 0 1 2 0 0 1 1 0 0 1 0 2 2\n",
      " 0 2 2 1 2 1 2 1 1 2 0 2 2 0 0 2 2 2 0 2 2 0 0 0 0 0 0 2 0 1 2 2 0 1 2 0 2\n",
      " 2 1 0 2 2 0 2 1 1 0 2 2 1 1 2 1 1 0 2 0 1 1 2 2 1 1 0 1 0 0 2 2 1 2 1 2 1\n",
      " 0 0 2 1 1 1 2 0 2 1 1 0 0 0 1 0 0 1 0 2 1 2 0 0 1 2 2 0 0 1 0 1 1 1 1 1 0\n",
      " 1 1 2 1 1 0 2 2 1 0 2 0 1 0 2 1 0 1 2 0 2 1 2 2 2 0 0 1 1 1 1 0 1 1 2 0 1\n",
      " 2 1 2 1 2 1 0 1 2 2 0 1 0 2 1 1 2 1 1 0 2 2 0 1 1 0 1 1 0 1 1 2 0 1 2 1 2\n",
      " 2 2 1 2 1 0 2 1 1 0 0 1 1 2 1 1 0 2 1 2 2 0 0 1 0 1 0 1 2 1 1 0 1 2 1 1 2\n",
      " 0 0 2 0 0 2 1 2 2 2 1 2 0 1 2 2 1 2 0 1 2 2 2 2 1 1 1 2 1 2 2 1 1 2 1 1 1\n",
      " 2]\n"
     ]
    }
   ],
   "source": [
    "print(y)"
   ]
  },
  {
   "cell_type": "code",
   "execution_count": 4,
   "metadata": {},
   "outputs": [],
   "source": [
    "from sklearn.model_selection import train_test_split\n",
    "X_train, X_test, y_train, y_test = train_test_split(X, y, test_size=0.4, random_state=101)"
   ]
  },
  {
   "cell_type": "code",
   "execution_count": 5,
   "metadata": {},
   "outputs": [
    {
     "data": {
      "text/plain": [
       "array([0, 0, 1, 0, 1, 0, 2, 0, 1, 1, 1, 2, 2, 1, 1, 2, 0, 0, 1, 1, 1, 2,\n",
       "       2, 0, 0, 2, 2, 1, 0, 0, 1, 2, 0, 2, 1, 2, 1, 0, 1, 2, 2, 2, 1, 0,\n",
       "       1, 0, 1, 2, 2, 2, 1, 0, 1, 0, 0, 1, 2, 2, 1, 1, 0, 0, 0, 0, 1, 0,\n",
       "       1, 0, 1, 2, 1, 0, 0, 0, 0, 0, 0, 2, 2, 1, 2, 0, 0, 0, 2, 0, 0, 2,\n",
       "       2, 2, 2, 2, 0, 2, 1, 1, 1, 0, 1, 2, 2, 1, 1, 0, 0, 1, 0, 0, 2, 2,\n",
       "       2, 0, 2, 0, 0, 1, 1, 0, 2, 1, 2, 0, 1, 2, 0, 0, 2, 0, 1, 1, 1, 2,\n",
       "       2, 1, 0, 0, 1, 0, 0, 0, 2, 0, 0, 1, 0, 2, 1, 2, 1, 1, 1, 2, 0, 0,\n",
       "       1, 1, 0, 1, 1, 2, 0, 0, 0, 1, 2, 1, 0, 0, 1, 0, 1, 1, 1, 0, 2, 0,\n",
       "       2, 1, 0, 0, 2, 0, 1, 2, 0, 1, 2, 0, 1, 0, 2, 0, 0, 0, 1, 2, 0, 0,\n",
       "       1, 2, 2, 1, 0, 1, 0, 2, 1, 0, 1, 0, 1, 2, 0, 0, 2, 2, 2, 0, 2, 0,\n",
       "       1, 2, 1, 1, 0, 1, 2, 2, 1, 1, 2, 2, 2, 0, 0, 0, 1, 0, 0, 0, 1, 1,\n",
       "       0, 1, 1, 2, 1, 0, 2, 2, 1, 1, 2, 2, 2, 2, 1, 0, 2, 2, 2, 2, 2, 1,\n",
       "       0, 1, 1, 1, 1, 1, 2, 1, 1, 0, 2, 2, 0, 1, 2, 1, 1, 2, 2, 0, 2, 0,\n",
       "       0, 0, 0, 0, 2, 2, 0, 1, 2, 1, 1, 1, 0, 2, 0, 1, 2, 1, 0, 0, 1, 0,\n",
       "       0, 0, 0, 0, 2, 0, 1, 2, 1, 2, 1, 2, 2, 0, 1, 1, 2, 0, 1, 2, 2, 2,\n",
       "       2, 1, 2, 2, 1, 1, 2, 1, 2, 2, 1, 0, 2, 2, 0, 1, 0, 0, 2, 0, 0, 0,\n",
       "       0, 1, 0, 2, 0, 0, 0, 1, 0, 1, 1, 0, 2, 2, 0, 2, 1, 0, 0, 2, 2, 0,\n",
       "       0, 2, 2, 2, 1, 1, 1, 2, 0, 2, 2, 1, 1, 1, 0, 0, 1, 2, 1, 1, 1, 1,\n",
       "       2, 2, 1, 1])"
      ]
     },
     "execution_count": 5,
     "metadata": {},
     "output_type": "execute_result"
    }
   ],
   "source": [
    "y_test"
   ]
  },
  {
   "cell_type": "code",
   "execution_count": 6,
   "metadata": {},
   "outputs": [],
   "source": [
    "from sklearn.multiclass import OneVsRestClassifier\n",
    "from sklearn.neighbors import KNeighborsClassifier"
   ]
  },
  {
   "cell_type": "code",
   "execution_count": 7,
   "metadata": {},
   "outputs": [
    {
     "data": {
      "text/plain": [
       "OneVsRestClassifier(estimator=KNeighborsClassifier(n_neighbors=2))"
      ]
     },
     "execution_count": 7,
     "metadata": {},
     "output_type": "execute_result"
    }
   ],
   "source": [
    "KNN = OneVsRestClassifier(KNeighborsClassifier(n_neighbors=2))\n",
    "KNN.fit(X_train,y_train)"
   ]
  },
  {
   "cell_type": "code",
   "execution_count": 8,
   "metadata": {},
   "outputs": [
    {
     "name": "stdout",
     "output_type": "stream",
     "text": [
      "[[0.5 0.5 0. ]\n",
      " [0.  0.  1. ]\n",
      " [0.  1.  0. ]\n",
      " ...\n",
      " [0.  0.  1. ]\n",
      " [0.  1.  0. ]\n",
      " [0.  1.  0. ]]\n"
     ]
    }
   ],
   "source": [
    "y_pred = KNN.predict(X_test)\n",
    "pred_prob = KNN.predict_proba(X_test)\n",
    "print(pred_prob)"
   ]
  },
  {
   "cell_type": "code",
   "execution_count": 9,
   "metadata": {},
   "outputs": [],
   "source": [
    "from sklearn.preprocessing import label_binarize"
   ]
  },
  {
   "cell_type": "code",
   "execution_count": 10,
   "metadata": {},
   "outputs": [
    {
     "name": "stdout",
     "output_type": "stream",
     "text": [
      "[[1 0 0]\n",
      " [1 0 0]\n",
      " [0 1 0]\n",
      " ...\n",
      " [0 0 1]\n",
      " [0 1 0]\n",
      " [0 1 0]]\n"
     ]
    }
   ],
   "source": [
    "y_test_binarized = label_binarize(y_test,classes=np.unique(y_test))\n",
    "print(y_test_binarized)"
   ]
  },
  {
   "cell_type": "code",
   "execution_count": 11,
   "metadata": {},
   "outputs": [],
   "source": [
    "Classes = ['0','1','2']"
   ]
  },
  {
   "cell_type": "code",
   "execution_count": 12,
   "metadata": {},
   "outputs": [
    {
     "data": {
      "image/png": "[encoded data removed]",
      "text/plain": [
       "<Figure size 432x288 with 1 Axes>"
      ]
     },
     "metadata": {
      "needs_background": "light"
     },
     "output_type": "display_data"
    }
   ],
   "source": [
    "from sklearn.metrics import roc_curve,auc\n",
    "\n",
    "fpr = {}\n",
    "tpr = {}\n",
    "thresh ={}\n",
    "roc_auc = dict()\n",
    "n_class = 3\n",
    "\n",
    "for i in range(n_class):    \n",
    "    fpr[i], tpr[i], thresh[i] = roc_curve(y_test_binarized[:,i], pred_prob[:,i])\n",
    "    roc_auc[i] = auc(fpr[i], tpr[i])\n",
    "    \n",
    "    # plotting    \n",
    "    plt.plot(fpr[i], tpr[i], linestyle='--',label='%s vs Rest (AUC=%0.2f)'%(Classes[i],roc_auc[i]))\n",
    "    \n",
    "plt.plot([0,1],[0,1],'b--')\n",
    "plt.xlim([0,1])\n",
    "plt.ylim([0,1.05])\n",
    "plt.title('Multiclass ROC curve')\n",
    "plt.xlabel('FPR')\n",
    "plt.ylabel('TPR')\n",
    "plt.legend(loc='lower right')\n",
    "plt.show()"
   ]
  },
  {
   "cell_type": "code",
   "execution_count": 13,
   "metadata": {},
   "outputs": [
    {
     "data": {
      "text/plain": [
       "0.9130461714965573"
      ]
     },
     "execution_count": 13,
     "metadata": {},
     "output_type": "execute_result"
    }
   ],
   "source": [
    "from sklearn.metrics import roc_auc_score\n",
    "y_scores = KNN.predict_proba(X_test)\n",
    "roc_auc_score(y_test, y_scores,multi_class = \"ovr\")"
   ]
  }
 ],
 "metadata": {
  "kernelspec": {
   "display_name": "Python 3",
   "language": "python",
   "name": "python3"
  },
  "language_info": {
   "codemirror_mode": {
    "name": "ipython",
    "version": 3
   },
   "file_extension": ".py",
   "mimetype": "text/x-python",
   "name": "python",
   "nbconvert_exporter": "python",
   "pygments_lexer": "ipython3",
   "version": "3.7.6"
  }
 },
 "nbformat": 4,
 "nbformat_minor": 4
}
